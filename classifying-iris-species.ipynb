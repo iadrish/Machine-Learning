{
 "cells": [
  {
   "cell_type": "code",
   "execution_count": 1,
   "id": "497d58c0",
   "metadata": {
    "_cell_guid": "b1076dfc-b9ad-4769-8c92-a6c4dae69d19",
    "_uuid": "8f2839f25d086af736a60e9eeb907d3b93b6e0e5",
    "execution": {
     "iopub.execute_input": "2022-03-27T12:50:00.187150Z",
     "iopub.status.busy": "2022-03-27T12:50:00.185851Z",
     "iopub.status.idle": "2022-03-27T12:50:01.346143Z",
     "shell.execute_reply": "2022-03-27T12:50:01.345400Z",
     "shell.execute_reply.started": "2022-03-27T12:49:10.292932Z"
    },
    "papermill": {
     "duration": 1.175433,
     "end_time": "2022-03-27T12:50:01.346317",
     "exception": false,
     "start_time": "2022-03-27T12:50:00.170884",
     "status": "completed"
    },
    "tags": []
   },
   "outputs": [
    {
     "name": "stdout",
     "output_type": "stream",
     "text": [
      "Python version: 3.7.12 | packaged by conda-forge | (default, Oct 26 2021, 06:08:53) \n",
      "[GCC 9.4.0]\n"
     ]
    }
   ],
   "source": [
    "import sys\n",
    "print (\"Python version: {}\".format(sys.version))\n",
    "import pandas as pd\n",
    "import sklearn\n",
    "import scipy as sp"
   ]
  },
  {
   "cell_type": "code",
   "execution_count": 2,
   "id": "b8f5fbc7",
   "metadata": {
    "execution": {
     "iopub.execute_input": "2022-03-27T12:50:01.373107Z",
     "iopub.status.busy": "2022-03-27T12:50:01.372426Z",
     "iopub.status.idle": "2022-03-27T12:50:01.496002Z",
     "shell.execute_reply": "2022-03-27T12:50:01.494549Z",
     "shell.execute_reply.started": "2022-03-27T12:49:10.303906Z"
    },
    "papermill": {
     "duration": 0.138572,
     "end_time": "2022-03-27T12:50:01.496211",
     "exception": false,
     "start_time": "2022-03-27T12:50:01.357639",
     "status": "completed"
    },
    "tags": []
   },
   "outputs": [],
   "source": [
    "from sklearn.datasets import load_iris\n",
    "iris_dataset = load_iris()"
   ]
  },
  {
   "cell_type": "code",
   "execution_count": 3,
   "id": "8e5d5557",
   "metadata": {
    "execution": {
     "iopub.execute_input": "2022-03-27T12:50:01.522185Z",
     "iopub.status.busy": "2022-03-27T12:50:01.521410Z",
     "iopub.status.idle": "2022-03-27T12:50:01.525748Z",
     "shell.execute_reply": "2022-03-27T12:50:01.525036Z",
     "shell.execute_reply.started": "2022-03-27T12:49:10.351688Z"
    },
    "papermill": {
     "duration": 0.019621,
     "end_time": "2022-03-27T12:50:01.525954",
     "exception": false,
     "start_time": "2022-03-27T12:50:01.506333",
     "status": "completed"
    },
    "tags": []
   },
   "outputs": [
    {
     "name": "stdout",
     "output_type": "stream",
     "text": [
      "Keys of iris_dataset:\n",
      "dict_keys(['data', 'target', 'frame', 'target_names', 'DESCR', 'feature_names', 'filename', 'data_module'])\n"
     ]
    }
   ],
   "source": [
    "\n",
    "print (\"Keys of iris_dataset:\\n{}\".format(iris_dataset.keys()))"
   ]
  },
  {
   "cell_type": "code",
   "execution_count": 4,
   "id": "a60e6542",
   "metadata": {
    "execution": {
     "iopub.execute_input": "2022-03-27T12:50:01.552450Z",
     "iopub.status.busy": "2022-03-27T12:50:01.551625Z",
     "iopub.status.idle": "2022-03-27T12:50:01.557142Z",
     "shell.execute_reply": "2022-03-27T12:50:01.558163Z",
     "shell.execute_reply.started": "2022-03-27T12:49:10.393959Z"
    },
    "papermill": {
     "duration": 0.021035,
     "end_time": "2022-03-27T12:50:01.558424",
     "exception": false,
     "start_time": "2022-03-27T12:50:01.537389",
     "status": "completed"
    },
    "tags": []
   },
   "outputs": [
    {
     "name": "stdout",
     "output_type": "stream",
     "text": [
      ".. _iris_dataset:\n",
      "\n",
      "Iris plants dataset\n",
      "--------------------\n",
      "\n",
      "**Data Set Characteristics:**\n",
      "\n",
      "    :Number of Instances: 150 (50 in each of three classes)\n",
      "    :Number of Attributes: 4 numeric, pre\n",
      "...\n",
      "Target names: ['setosa' 'versicolor' 'virginica']\n"
     ]
    }
   ],
   "source": [
    "print(iris_dataset['DESCR'][:193] +\"\\n...\")\n",
    "print(\"Target names: {}\".format(iris_dataset['target_names']))"
   ]
  },
  {
   "cell_type": "code",
   "execution_count": 5,
   "id": "ed7f4fd2",
   "metadata": {
    "execution": {
     "iopub.execute_input": "2022-03-27T12:50:01.586898Z",
     "iopub.status.busy": "2022-03-27T12:50:01.586262Z",
     "iopub.status.idle": "2022-03-27T12:50:01.589718Z",
     "shell.execute_reply": "2022-03-27T12:50:01.589163Z",
     "shell.execute_reply.started": "2022-03-27T12:49:10.423575Z"
    },
    "papermill": {
     "duration": 0.019197,
     "end_time": "2022-03-27T12:50:01.589865",
     "exception": false,
     "start_time": "2022-03-27T12:50:01.570668",
     "status": "completed"
    },
    "tags": []
   },
   "outputs": [
    {
     "name": "stdout",
     "output_type": "stream",
     "text": [
      "Feature names: ['sepal length (cm)', 'sepal width (cm)', 'petal length (cm)', 'petal width (cm)']\n",
      "Target names: ['setosa' 'versicolor' 'virginica']\n"
     ]
    }
   ],
   "source": [
    "print(\"Feature names: {}\".format(iris_dataset['feature_names']))\n",
    "print(\"Target names: {}\".format(iris_dataset['target_names']))"
   ]
  },
  {
   "cell_type": "code",
   "execution_count": 6,
   "id": "eb830245",
   "metadata": {
    "execution": {
     "iopub.execute_input": "2022-03-27T12:50:01.616641Z",
     "iopub.status.busy": "2022-03-27T12:50:01.615930Z",
     "iopub.status.idle": "2022-03-27T12:50:01.620914Z",
     "shell.execute_reply": "2022-03-27T12:50:01.620286Z",
     "shell.execute_reply.started": "2022-03-27T12:49:10.463822Z"
    },
    "papermill": {
     "duration": 0.020306,
     "end_time": "2022-03-27T12:50:01.621115",
     "exception": false,
     "start_time": "2022-03-27T12:50:01.600809",
     "status": "completed"
    },
    "tags": []
   },
   "outputs": [
    {
     "name": "stdout",
     "output_type": "stream",
     "text": [
      "Types of Data: <class 'numpy.ndarray'>\n"
     ]
    }
   ],
   "source": [
    "print(\"Types of Data: {}\".format(type(iris_dataset['data'])))"
   ]
  },
  {
   "cell_type": "code",
   "execution_count": 7,
   "id": "67c75fa8",
   "metadata": {
    "execution": {
     "iopub.execute_input": "2022-03-27T12:50:01.650411Z",
     "iopub.status.busy": "2022-03-27T12:50:01.649672Z",
     "iopub.status.idle": "2022-03-27T12:50:01.653698Z",
     "shell.execute_reply": "2022-03-27T12:50:01.653168Z",
     "shell.execute_reply.started": "2022-03-27T12:49:10.493889Z"
    },
    "papermill": {
     "duration": 0.021164,
     "end_time": "2022-03-27T12:50:01.653840",
     "exception": false,
     "start_time": "2022-03-27T12:50:01.632676",
     "status": "completed"
    },
    "tags": []
   },
   "outputs": [
    {
     "name": "stdout",
     "output_type": "stream",
     "text": [
      "First five columns of data:\n",
      "[[5.1 3.5 1.4 0.2]\n",
      " [4.9 3.  1.4 0.2]\n",
      " [4.7 3.2 1.3 0.2]\n",
      " [4.6 3.1 1.5 0.2]\n",
      " [5.  3.6 1.4 0.2]]\n"
     ]
    }
   ],
   "source": [
    "print(\"First five columns of data:\\n{}\".format(iris_dataset['data'][:5]))"
   ]
  },
  {
   "cell_type": "code",
   "execution_count": 8,
   "id": "a7d0ba03",
   "metadata": {
    "execution": {
     "iopub.execute_input": "2022-03-27T12:50:01.683222Z",
     "iopub.status.busy": "2022-03-27T12:50:01.682412Z",
     "iopub.status.idle": "2022-03-27T12:50:01.685581Z",
     "shell.execute_reply": "2022-03-27T12:50:01.686093Z",
     "shell.execute_reply.started": "2022-03-27T12:49:10.532536Z"
    },
    "papermill": {
     "duration": 0.020905,
     "end_time": "2022-03-27T12:50:01.686323",
     "exception": false,
     "start_time": "2022-03-27T12:50:01.665418",
     "status": "completed"
    },
    "tags": []
   },
   "outputs": [
    {
     "name": "stdout",
     "output_type": "stream",
     "text": [
      "Type of Target:\n",
      "<class 'numpy.ndarray'>\n"
     ]
    }
   ],
   "source": [
    "print(\"Type of Target:\\n{}\".format(type(iris_dataset['target'])))"
   ]
  },
  {
   "cell_type": "code",
   "execution_count": 9,
   "id": "4fe8047f",
   "metadata": {
    "execution": {
     "iopub.execute_input": "2022-03-27T12:50:01.715852Z",
     "iopub.status.busy": "2022-03-27T12:50:01.715186Z",
     "iopub.status.idle": "2022-03-27T12:50:01.717569Z",
     "shell.execute_reply": "2022-03-27T12:50:01.718042Z",
     "shell.execute_reply.started": "2022-03-27T12:49:10.544202Z"
    },
    "papermill": {
     "duration": 0.019259,
     "end_time": "2022-03-27T12:50:01.718228",
     "exception": false,
     "start_time": "2022-03-27T12:50:01.698969",
     "status": "completed"
    },
    "tags": []
   },
   "outputs": [
    {
     "name": "stdout",
     "output_type": "stream",
     "text": [
      "Shape of Target:\n",
      "(150,)\n"
     ]
    }
   ],
   "source": [
    "print(\"Shape of Target:\\n{}\".format((iris_dataset['target'].shape)))"
   ]
  },
  {
   "cell_type": "code",
   "execution_count": 10,
   "id": "2667dcf7",
   "metadata": {
    "execution": {
     "iopub.execute_input": "2022-03-27T12:50:01.749720Z",
     "iopub.status.busy": "2022-03-27T12:50:01.745579Z",
     "iopub.status.idle": "2022-03-27T12:50:01.752900Z",
     "shell.execute_reply": "2022-03-27T12:50:01.752301Z",
     "shell.execute_reply.started": "2022-03-27T12:49:10.592318Z"
    },
    "papermill": {
     "duration": 0.022641,
     "end_time": "2022-03-27T12:50:01.753096",
     "exception": false,
     "start_time": "2022-03-27T12:50:01.730455",
     "status": "completed"
    },
    "tags": []
   },
   "outputs": [
    {
     "name": "stdout",
     "output_type": "stream",
     "text": [
      "Target:\n",
      "[0 0 0 0 0 0 0 0 0 0 0 0 0 0 0 0 0 0 0 0 0 0 0 0 0 0 0 0 0 0 0 0 0 0 0 0 0\n",
      " 0 0 0 0 0 0 0 0 0 0 0 0 0 1 1 1 1 1 1 1 1 1 1 1 1 1 1 1 1 1 1 1 1 1 1 1 1\n",
      " 1 1 1 1 1 1 1 1 1 1 1 1 1 1 1 1 1 1 1 1 1 1 1 1 1 1 2 2 2 2 2 2 2 2 2 2 2\n",
      " 2 2 2 2 2 2 2 2 2 2 2 2 2 2 2 2 2 2 2 2 2 2 2 2 2 2 2 2 2 2 2 2 2 2 2 2 2\n",
      " 2 2]\n"
     ]
    }
   ],
   "source": [
    "print(\"Target:\\n{}\".format(iris_dataset['target']))"
   ]
  },
  {
   "cell_type": "code",
   "execution_count": null,
   "id": "c43aaf29",
   "metadata": {
    "papermill": {
     "duration": 0.018491,
     "end_time": "2022-03-27T12:50:01.785319",
     "exception": false,
     "start_time": "2022-03-27T12:50:01.766828",
     "status": "completed"
    },
    "tags": []
   },
   "outputs": [],
   "source": []
  },
  {
   "cell_type": "code",
   "execution_count": null,
   "id": "1bd473ed",
   "metadata": {
    "papermill": {
     "duration": 0.014188,
     "end_time": "2022-03-27T12:50:01.814295",
     "exception": false,
     "start_time": "2022-03-27T12:50:01.800107",
     "status": "completed"
    },
    "tags": []
   },
   "outputs": [],
   "source": [
    "\n"
   ]
  }
 ],
 "metadata": {
  "kernelspec": {
   "display_name": "Python 3",
   "language": "python",
   "name": "python3"
  },
  "language_info": {
   "codemirror_mode": {
    "name": "ipython",
    "version": 3
   },
   "file_extension": ".py",
   "mimetype": "text/x-python",
   "name": "python",
   "nbconvert_exporter": "python",
   "pygments_lexer": "ipython3",
   "version": "3.7.12"
  },
  "papermill": {
   "default_parameters": {},
   "duration": 11.080576,
   "end_time": "2022-03-27T12:50:02.544633",
   "environment_variables": {},
   "exception": null,
   "input_path": "__notebook__.ipynb",
   "output_path": "__notebook__.ipynb",
   "parameters": {},
   "start_time": "2022-03-27T12:49:51.464057",
   "version": "2.3.3"
  }
 },
 "nbformat": 4,
 "nbformat_minor": 5
}
