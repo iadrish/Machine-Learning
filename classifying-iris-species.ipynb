{
 "cells": [
  {
   "cell_type": "code",
   "execution_count": 1,
   "id": "26a3d487",
   "metadata": {
    "_cell_guid": "b1076dfc-b9ad-4769-8c92-a6c4dae69d19",
    "_uuid": "8f2839f25d086af736a60e9eeb907d3b93b6e0e5",
    "execution": {
     "iopub.execute_input": "2022-03-26T17:48:01.783807Z",
     "iopub.status.busy": "2022-03-26T17:48:01.783098Z",
     "iopub.status.idle": "2022-03-26T17:48:02.875642Z",
     "shell.execute_reply": "2022-03-26T17:48:02.874918Z",
     "shell.execute_reply.started": "2022-03-26T16:41:59.257897Z"
    },
    "papermill": {
     "duration": 1.118031,
     "end_time": "2022-03-26T17:48:02.875831",
     "exception": false,
     "start_time": "2022-03-26T17:48:01.757800",
     "status": "completed"
    },
    "tags": []
   },
   "outputs": [
    {
     "name": "stdout",
     "output_type": "stream",
     "text": [
      "Python version: 3.7.12 | packaged by conda-forge | (default, Oct 26 2021, 06:08:53) \n",
      "[GCC 9.4.0]\n"
     ]
    }
   ],
   "source": [
    "import sys\n",
    "print (\"Python version: {}\".format(sys.version))\n",
    "import pandas as pd\n",
    "import sklearn\n",
    "import scipy as sp"
   ]
  },
  {
   "cell_type": "code",
   "execution_count": 2,
   "id": "57d4c118",
   "metadata": {
    "execution": {
     "iopub.execute_input": "2022-03-26T17:48:02.908339Z",
     "iopub.status.busy": "2022-03-26T17:48:02.907421Z",
     "iopub.status.idle": "2022-03-26T17:48:03.017692Z",
     "shell.execute_reply": "2022-03-26T17:48:03.017053Z",
     "shell.execute_reply.started": "2022-03-26T17:01:39.087749Z"
    },
    "papermill": {
     "duration": 0.127863,
     "end_time": "2022-03-26T17:48:03.017842",
     "exception": false,
     "start_time": "2022-03-26T17:48:02.889979",
     "status": "completed"
    },
    "tags": []
   },
   "outputs": [],
   "source": [
    "from sklearn.datasets import load_iris\n",
    "iris_dataset = load_iris()"
   ]
  },
  {
   "cell_type": "code",
   "execution_count": 3,
   "id": "d5f5a8f7",
   "metadata": {
    "execution": {
     "iopub.execute_input": "2022-03-26T17:48:03.047962Z",
     "iopub.status.busy": "2022-03-26T17:48:03.046946Z",
     "iopub.status.idle": "2022-03-26T17:48:03.052934Z",
     "shell.execute_reply": "2022-03-26T17:48:03.053658Z",
     "shell.execute_reply.started": "2022-03-26T17:01:42.436449Z"
    },
    "papermill": {
     "duration": 0.023219,
     "end_time": "2022-03-26T17:48:03.053884",
     "exception": false,
     "start_time": "2022-03-26T17:48:03.030665",
     "status": "completed"
    },
    "tags": []
   },
   "outputs": [
    {
     "name": "stdout",
     "output_type": "stream",
     "text": [
      "Keys of iris_dataset:\n",
      "dict_keys(['data', 'target', 'frame', 'target_names', 'DESCR', 'feature_names', 'filename', 'data_module'])\n"
     ]
    }
   ],
   "source": [
    "\n",
    "print (\"Keys of iris_dataset:\\n{}\".format(iris_dataset.keys()))"
   ]
  },
  {
   "cell_type": "code",
   "execution_count": 4,
   "id": "3b42c026",
   "metadata": {
    "execution": {
     "iopub.execute_input": "2022-03-26T17:48:03.084749Z",
     "iopub.status.busy": "2022-03-26T17:48:03.083773Z",
     "iopub.status.idle": "2022-03-26T17:48:03.090138Z",
     "shell.execute_reply": "2022-03-26T17:48:03.090793Z",
     "shell.execute_reply.started": "2022-03-26T17:01:46.188915Z"
    },
    "papermill": {
     "duration": 0.023372,
     "end_time": "2022-03-26T17:48:03.091035",
     "exception": false,
     "start_time": "2022-03-26T17:48:03.067663",
     "status": "completed"
    },
    "tags": []
   },
   "outputs": [
    {
     "name": "stdout",
     "output_type": "stream",
     "text": [
      ".. _iris_dataset:\n",
      "\n",
      "Iris plants dataset\n",
      "--------------------\n",
      "\n",
      "**Data Set Characteristics:**\n",
      "\n",
      "    :Number of Instances: 150 (50 in each of three classes)\n",
      "    :Number of Attributes: 4 numeric, pre\n",
      "...\n",
      "Target names: ['setosa' 'versicolor' 'virginica']\n"
     ]
    }
   ],
   "source": [
    "print(iris_dataset['DESCR'][:193] +\"\\n...\")\n",
    "print(\"Target names: {}\".format(iris_dataset['target_names']))"
   ]
  },
  {
   "cell_type": "code",
   "execution_count": 5,
   "id": "f62c666e",
   "metadata": {
    "execution": {
     "iopub.execute_input": "2022-03-26T17:48:03.125472Z",
     "iopub.status.busy": "2022-03-26T17:48:03.124587Z",
     "iopub.status.idle": "2022-03-26T17:48:03.128200Z",
     "shell.execute_reply": "2022-03-26T17:48:03.128703Z",
     "shell.execute_reply.started": "2022-03-26T17:06:09.250734Z"
    },
    "papermill": {
     "duration": 0.023602,
     "end_time": "2022-03-26T17:48:03.128874",
     "exception": false,
     "start_time": "2022-03-26T17:48:03.105272",
     "status": "completed"
    },
    "tags": []
   },
   "outputs": [
    {
     "name": "stdout",
     "output_type": "stream",
     "text": [
      "Feature names: ['sepal length (cm)', 'sepal width (cm)', 'petal length (cm)', 'petal width (cm)']\n",
      "Target names: ['setosa' 'versicolor' 'virginica']\n"
     ]
    }
   ],
   "source": [
    "print(\"Feature names: {}\".format(iris_dataset['feature_names']))\n",
    "print(\"Target names: {}\".format(iris_dataset['target_names']))"
   ]
  },
  {
   "cell_type": "code",
   "execution_count": 6,
   "id": "d05ecd25",
   "metadata": {
    "execution": {
     "iopub.execute_input": "2022-03-26T17:48:03.161887Z",
     "iopub.status.busy": "2022-03-26T17:48:03.161042Z",
     "iopub.status.idle": "2022-03-26T17:48:03.165001Z",
     "shell.execute_reply": "2022-03-26T17:48:03.165489Z",
     "shell.execute_reply.started": "2022-03-26T17:02:13.770622Z"
    },
    "papermill": {
     "duration": 0.022927,
     "end_time": "2022-03-26T17:48:03.165666",
     "exception": false,
     "start_time": "2022-03-26T17:48:03.142739",
     "status": "completed"
    },
    "tags": []
   },
   "outputs": [
    {
     "name": "stdout",
     "output_type": "stream",
     "text": [
      "Types of Data: <class 'numpy.ndarray'>\n"
     ]
    }
   ],
   "source": [
    "print(\"Types of Data: {}\".format(type(iris_dataset['data'])))"
   ]
  },
  {
   "cell_type": "code",
   "execution_count": 7,
   "id": "2b8ce0e5",
   "metadata": {
    "execution": {
     "iopub.execute_input": "2022-03-26T17:48:03.199952Z",
     "iopub.status.busy": "2022-03-26T17:48:03.199209Z",
     "iopub.status.idle": "2022-03-26T17:48:03.201994Z",
     "shell.execute_reply": "2022-03-26T17:48:03.202535Z",
     "shell.execute_reply.started": "2022-03-26T17:11:10.470554Z"
    },
    "papermill": {
     "duration": 0.02285,
     "end_time": "2022-03-26T17:48:03.202709",
     "exception": false,
     "start_time": "2022-03-26T17:48:03.179859",
     "status": "completed"
    },
    "tags": []
   },
   "outputs": [
    {
     "name": "stdout",
     "output_type": "stream",
     "text": [
      "First five columns of data:\n",
      "[[5.1 3.5 1.4 0.2]\n",
      " [4.9 3.  1.4 0.2]\n",
      " [4.7 3.2 1.3 0.2]\n",
      " [4.6 3.1 1.5 0.2]\n",
      " [5.  3.6 1.4 0.2]]\n"
     ]
    }
   ],
   "source": [
    "print(\"First five columns of data:\\n{}\".format(iris_dataset['data'][:5]))"
   ]
  },
  {
   "cell_type": "code",
   "execution_count": 8,
   "id": "d312dd1e",
   "metadata": {
    "execution": {
     "iopub.execute_input": "2022-03-26T17:48:03.235403Z",
     "iopub.status.busy": "2022-03-26T17:48:03.234731Z",
     "iopub.status.idle": "2022-03-26T17:48:03.240389Z",
     "shell.execute_reply": "2022-03-26T17:48:03.241295Z",
     "shell.execute_reply.started": "2022-03-26T17:25:23.350762Z"
    },
    "papermill": {
     "duration": 0.024198,
     "end_time": "2022-03-26T17:48:03.241539",
     "exception": false,
     "start_time": "2022-03-26T17:48:03.217341",
     "status": "completed"
    },
    "tags": []
   },
   "outputs": [
    {
     "name": "stdout",
     "output_type": "stream",
     "text": [
      "Type of Target:\n",
      "<class 'numpy.ndarray'>\n"
     ]
    }
   ],
   "source": [
    "print(\"Type of Target:\\n{}\".format(type(iris_dataset['target'])))"
   ]
  },
  {
   "cell_type": "code",
   "execution_count": 9,
   "id": "0132cf39",
   "metadata": {
    "execution": {
     "iopub.execute_input": "2022-03-26T17:48:03.275657Z",
     "iopub.status.busy": "2022-03-26T17:48:03.274980Z",
     "iopub.status.idle": "2022-03-26T17:48:03.279129Z",
     "shell.execute_reply": "2022-03-26T17:48:03.279629Z",
     "shell.execute_reply.started": "2022-03-26T17:37:07.833312Z"
    },
    "papermill": {
     "duration": 0.022494,
     "end_time": "2022-03-26T17:48:03.279804",
     "exception": false,
     "start_time": "2022-03-26T17:48:03.257310",
     "status": "completed"
    },
    "tags": []
   },
   "outputs": [
    {
     "name": "stdout",
     "output_type": "stream",
     "text": [
      "Shape of Target:\n",
      "(150,)\n"
     ]
    }
   ],
   "source": [
    "print(\"Shape of Target:\\n{}\".format((iris_dataset['target'].shape)))"
   ]
  },
  {
   "cell_type": "code",
   "execution_count": 10,
   "id": "034503ed",
   "metadata": {
    "execution": {
     "iopub.execute_input": "2022-03-26T17:48:03.314498Z",
     "iopub.status.busy": "2022-03-26T17:48:03.313795Z",
     "iopub.status.idle": "2022-03-26T17:48:03.320344Z",
     "shell.execute_reply": "2022-03-26T17:48:03.319758Z",
     "shell.execute_reply.started": "2022-03-26T17:38:23.477267Z"
    },
    "papermill": {
     "duration": 0.025013,
     "end_time": "2022-03-26T17:48:03.320493",
     "exception": false,
     "start_time": "2022-03-26T17:48:03.295480",
     "status": "completed"
    },
    "tags": []
   },
   "outputs": [
    {
     "name": "stdout",
     "output_type": "stream",
     "text": [
      "Target:\n",
      "[0 0 0 0 0 0 0 0 0 0 0 0 0 0 0 0 0 0 0 0 0 0 0 0 0 0 0 0 0 0 0 0 0 0 0 0 0\n",
      " 0 0 0 0 0 0 0 0 0 0 0 0 0 1 1 1 1 1 1 1 1 1 1 1 1 1 1 1 1 1 1 1 1 1 1 1 1\n",
      " 1 1 1 1 1 1 1 1 1 1 1 1 1 1 1 1 1 1 1 1 1 1 1 1 1 1 2 2 2 2 2 2 2 2 2 2 2\n",
      " 2 2 2 2 2 2 2 2 2 2 2 2 2 2 2 2 2 2 2 2 2 2 2 2 2 2 2 2 2 2 2 2 2 2 2 2 2\n",
      " 2 2]\n"
     ]
    }
   ],
   "source": [
    "print(\"Target:\\n{}\".format(iris_dataset['target']))"
   ]
  },
  {
   "cell_type": "code",
   "execution_count": null,
   "id": "8e8bf83d",
   "metadata": {
    "papermill": {
     "duration": 0.01553,
     "end_time": "2022-03-26T17:48:03.352128",
     "exception": false,
     "start_time": "2022-03-26T17:48:03.336598",
     "status": "completed"
    },
    "tags": []
   },
   "outputs": [],
   "source": []
  }
 ],
 "metadata": {
  "kernelspec": {
   "display_name": "Python 3",
   "language": "python",
   "name": "python3"
  },
  "language_info": {
   "codemirror_mode": {
    "name": "ipython",
    "version": 3
   },
   "file_extension": ".py",
   "mimetype": "text/x-python",
   "name": "python",
   "nbconvert_exporter": "python",
   "pygments_lexer": "ipython3",
   "version": "3.7.12"
  },
  "papermill": {
   "default_parameters": {},
   "duration": 12.247011,
   "end_time": "2022-03-26T17:48:04.077918",
   "environment_variables": {},
   "exception": null,
   "input_path": "__notebook__.ipynb",
   "output_path": "__notebook__.ipynb",
   "parameters": {},
   "start_time": "2022-03-26T17:47:51.830907",
   "version": "2.3.3"
  }
 },
 "nbformat": 4,
 "nbformat_minor": 5
}
