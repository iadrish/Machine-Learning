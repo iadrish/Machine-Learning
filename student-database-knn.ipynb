{
 "cells": [
  {
   "cell_type": "code",
   "execution_count": 1,
   "id": "0fc8d734",
   "metadata": {
    "_cell_guid": "b1076dfc-b9ad-4769-8c92-a6c4dae69d19",
    "_uuid": "8f2839f25d086af736a60e9eeb907d3b93b6e0e5",
    "execution": {
     "iopub.execute_input": "2022-04-14T14:23:41.643373Z",
     "iopub.status.busy": "2022-04-14T14:23:41.642717Z",
     "iopub.status.idle": "2022-04-14T14:23:41.663261Z",
     "shell.execute_reply": "2022-04-14T14:23:41.662579Z"
    },
    "papermill": {
     "duration": 0.03418,
     "end_time": "2022-04-14T14:23:41.665455",
     "exception": false,
     "start_time": "2022-04-14T14:23:41.631275",
     "status": "completed"
    },
    "tags": []
   },
   "outputs": [
    {
     "name": "stdout",
     "output_type": "stream",
     "text": [
      "/kaggle/input/stddata/Stud_Employ.csv\n"
     ]
    }
   ],
   "source": [
    "# This Python 3 environment comes with many helpful analytics libraries installed\n",
    "# It is defined by the kaggle/python Docker image: https://github.com/kaggle/docker-python\n",
    "# For example, here's several helpful packages to load\n",
    "\n",
    "import numpy as np # linear algebra\n",
    "import pandas as pd # data processing, CSV file I/O (e.g. pd.read_csv)\n",
    "\n",
    "# Input data files are available in the read-only \"../input/\" directory\n",
    "# For example, running this (by clicking run or pressing Shift+Enter) will list all files under the input directory\n",
    "\n",
    "import os\n",
    "for dirname, _, filenames in os.walk('/kaggle/input'):\n",
    "    for filename in filenames:\n",
    "        print(os.path.join(dirname, filename))\n",
    "\n",
    "# You can write up to 20GB to the current directory (/kaggle/working/) that gets preserved as output when you create a version using \"Save & Run All\" \n",
    "# You can also write temporary files to /kaggle/temp/, but they won't be saved outside of the current session"
   ]
  },
  {
   "cell_type": "code",
   "execution_count": 2,
   "id": "0ca16b6c",
   "metadata": {
    "execution": {
     "iopub.execute_input": "2022-04-14T14:23:41.686697Z",
     "iopub.status.busy": "2022-04-14T14:23:41.685704Z",
     "iopub.status.idle": "2022-04-14T14:23:41.716199Z",
     "shell.execute_reply": "2022-04-14T14:23:41.715155Z"
    },
    "papermill": {
     "duration": 0.043673,
     "end_time": "2022-04-14T14:23:41.719104",
     "exception": false,
     "start_time": "2022-04-14T14:23:41.675431",
     "status": "completed"
    },
    "tags": []
   },
   "outputs": [
    {
     "data": {
      "text/html": [
       "<div>\n",
       "<style scoped>\n",
       "    .dataframe tbody tr th:only-of-type {\n",
       "        vertical-align: middle;\n",
       "    }\n",
       "\n",
       "    .dataframe tbody tr th {\n",
       "        vertical-align: top;\n",
       "    }\n",
       "\n",
       "    .dataframe thead th {\n",
       "        text-align: right;\n",
       "    }\n",
       "</style>\n",
       "<table border=\"1\" class=\"dataframe\">\n",
       "  <thead>\n",
       "    <tr style=\"text-align: right;\">\n",
       "      <th></th>\n",
       "      <th>cgpa</th>\n",
       "      <th>communication</th>\n",
       "      <th>aptitude</th>\n",
       "      <th>progskill</th>\n",
       "      <th>class</th>\n",
       "    </tr>\n",
       "  </thead>\n",
       "  <tbody>\n",
       "    <tr>\n",
       "      <th>0</th>\n",
       "      <td>2</td>\n",
       "      <td>1</td>\n",
       "      <td>1</td>\n",
       "      <td>1</td>\n",
       "      <td>1</td>\n",
       "    </tr>\n",
       "    <tr>\n",
       "      <th>1</th>\n",
       "      <td>1</td>\n",
       "      <td>1</td>\n",
       "      <td>1</td>\n",
       "      <td>1</td>\n",
       "      <td>1</td>\n",
       "    </tr>\n",
       "    <tr>\n",
       "      <th>2</th>\n",
       "      <td>0</td>\n",
       "      <td>0</td>\n",
       "      <td>0</td>\n",
       "      <td>1</td>\n",
       "      <td>0</td>\n",
       "    </tr>\n",
       "    <tr>\n",
       "      <th>3</th>\n",
       "      <td>0</td>\n",
       "      <td>1</td>\n",
       "      <td>0</td>\n",
       "      <td>0</td>\n",
       "      <td>0</td>\n",
       "    </tr>\n",
       "    <tr>\n",
       "      <th>4</th>\n",
       "      <td>2</td>\n",
       "      <td>1</td>\n",
       "      <td>1</td>\n",
       "      <td>0</td>\n",
       "      <td>1</td>\n",
       "    </tr>\n",
       "    <tr>\n",
       "      <th>...</th>\n",
       "      <td>...</td>\n",
       "      <td>...</td>\n",
       "      <td>...</td>\n",
       "      <td>...</td>\n",
       "      <td>...</td>\n",
       "    </tr>\n",
       "    <tr>\n",
       "      <th>139</th>\n",
       "      <td>0</td>\n",
       "      <td>1</td>\n",
       "      <td>0</td>\n",
       "      <td>1</td>\n",
       "      <td>0</td>\n",
       "    </tr>\n",
       "    <tr>\n",
       "      <th>140</th>\n",
       "      <td>2</td>\n",
       "      <td>0</td>\n",
       "      <td>0</td>\n",
       "      <td>0</td>\n",
       "      <td>0</td>\n",
       "    </tr>\n",
       "    <tr>\n",
       "      <th>141</th>\n",
       "      <td>1</td>\n",
       "      <td>0</td>\n",
       "      <td>1</td>\n",
       "      <td>1</td>\n",
       "      <td>0</td>\n",
       "    </tr>\n",
       "    <tr>\n",
       "      <th>142</th>\n",
       "      <td>2</td>\n",
       "      <td>0</td>\n",
       "      <td>0</td>\n",
       "      <td>0</td>\n",
       "      <td>0</td>\n",
       "    </tr>\n",
       "    <tr>\n",
       "      <th>143</th>\n",
       "      <td>1</td>\n",
       "      <td>1</td>\n",
       "      <td>1</td>\n",
       "      <td>0</td>\n",
       "      <td>1</td>\n",
       "    </tr>\n",
       "  </tbody>\n",
       "</table>\n",
       "<p>144 rows × 5 columns</p>\n",
       "</div>"
      ],
      "text/plain": [
       "     cgpa  communication  aptitude  progskill  class\n",
       "0       2              1         1          1      1\n",
       "1       1              1         1          1      1\n",
       "2       0              0         0          1      0\n",
       "3       0              1         0          0      0\n",
       "4       2              1         1          0      1\n",
       "..    ...            ...       ...        ...    ...\n",
       "139     0              1         0          1      0\n",
       "140     2              0         0          0      0\n",
       "141     1              0         1          1      0\n",
       "142     2              0         0          0      0\n",
       "143     1              1         1          0      1\n",
       "\n",
       "[144 rows x 5 columns]"
      ]
     },
     "execution_count": 2,
     "metadata": {},
     "output_type": "execute_result"
    }
   ],
   "source": [
    "df=pd.read_csv(\"../input/stddata/Stud_Employ.csv\")\n",
    "df"
   ]
  },
  {
   "cell_type": "code",
   "execution_count": 3,
   "id": "79918238",
   "metadata": {
    "execution": {
     "iopub.execute_input": "2022-04-14T14:23:41.740876Z",
     "iopub.status.busy": "2022-04-14T14:23:41.740592Z",
     "iopub.status.idle": "2022-04-14T14:23:43.088567Z",
     "shell.execute_reply": "2022-04-14T14:23:43.087592Z"
    },
    "papermill": {
     "duration": 1.361466,
     "end_time": "2022-04-14T14:23:43.090874",
     "exception": false,
     "start_time": "2022-04-14T14:23:41.729408",
     "status": "completed"
    },
    "tags": []
   },
   "outputs": [],
   "source": [
    "from sklearn.metrics import accuracy_score\n",
    "from sklearn.neighbors import KNeighborsClassifier\n",
    "from sklearn.metrics import confusion_matrix\n",
    "from sklearn.model_selection import train_test_split"
   ]
  },
  {
   "cell_type": "code",
   "execution_count": 4,
   "id": "8279e964",
   "metadata": {
    "execution": {
     "iopub.execute_input": "2022-04-14T14:23:43.112238Z",
     "iopub.status.busy": "2022-04-14T14:23:43.111960Z",
     "iopub.status.idle": "2022-04-14T14:23:43.121284Z",
     "shell.execute_reply": "2022-04-14T14:23:43.120613Z"
    },
    "papermill": {
     "duration": 0.022138,
     "end_time": "2022-04-14T14:23:43.123383",
     "exception": false,
     "start_time": "2022-04-14T14:23:43.101245",
     "status": "completed"
    },
    "tags": []
   },
   "outputs": [],
   "source": [
    "predictors = df.iloc[:, 0:4]\n",
    "target = df.iloc[:,4]\n",
    "predictors_train, predictors_test,target_train, target_test=train_test_split(predictors, target, test_size=0.3, random_state = 123)\n"
   ]
  },
  {
   "cell_type": "code",
   "execution_count": 5,
   "id": "9e7d29fa",
   "metadata": {
    "execution": {
     "iopub.execute_input": "2022-04-14T14:23:43.144321Z",
     "iopub.status.busy": "2022-04-14T14:23:43.143751Z",
     "iopub.status.idle": "2022-04-14T14:23:43.150518Z",
     "shell.execute_reply": "2022-04-14T14:23:43.149896Z"
    },
    "papermill": {
     "duration": 0.019477,
     "end_time": "2022-04-14T14:23:43.152518",
     "exception": false,
     "start_time": "2022-04-14T14:23:43.133041",
     "status": "completed"
    },
    "tags": []
   },
   "outputs": [],
   "source": [
    "nn = KNeighborsClassifier(n_neighbors = 3)\n",
    "model = nn.fit(predictors_train, target_train)"
   ]
  },
  {
   "cell_type": "code",
   "execution_count": 6,
   "id": "092b14d4",
   "metadata": {
    "execution": {
     "iopub.execute_input": "2022-04-14T14:23:43.173543Z",
     "iopub.status.busy": "2022-04-14T14:23:43.172972Z",
     "iopub.status.idle": "2022-04-14T14:23:43.183968Z",
     "shell.execute_reply": "2022-04-14T14:23:43.183136Z"
    },
    "papermill": {
     "duration": 0.024027,
     "end_time": "2022-04-14T14:23:43.186097",
     "exception": false,
     "start_time": "2022-04-14T14:23:43.162070",
     "status": "completed"
    },
    "tags": []
   },
   "outputs": [
    {
     "data": {
      "text/plain": [
       "1.0"
      ]
     },
     "execution_count": 6,
     "metadata": {},
     "output_type": "execute_result"
    }
   ],
   "source": [
    "nn.score(predictors_test, target_test)"
   ]
  },
  {
   "cell_type": "code",
   "execution_count": 7,
   "id": "0449f14d",
   "metadata": {
    "execution": {
     "iopub.execute_input": "2022-04-14T14:23:43.207826Z",
     "iopub.status.busy": "2022-04-14T14:23:43.207525Z",
     "iopub.status.idle": "2022-04-14T14:23:43.220866Z",
     "shell.execute_reply": "2022-04-14T14:23:43.219957Z"
    },
    "papermill": {
     "duration": 0.026799,
     "end_time": "2022-04-14T14:23:43.222914",
     "exception": false,
     "start_time": "2022-04-14T14:23:43.196115",
     "status": "completed"
    },
    "tags": []
   },
   "outputs": [
    {
     "data": {
      "text/plain": [
       "array([[23,  0],\n",
       "       [ 0, 21]])"
      ]
     },
     "execution_count": 7,
     "metadata": {},
     "output_type": "execute_result"
    }
   ],
   "source": [
    "predictions =nn.predict (predictors_test)\n",
    "confusion_matrix(target_test,predictions)"
   ]
  }
 ],
 "metadata": {
  "kernelspec": {
   "display_name": "Python 3",
   "language": "python",
   "name": "python3"
  },
  "language_info": {
   "codemirror_mode": {
    "name": "ipython",
    "version": 3
   },
   "file_extension": ".py",
   "mimetype": "text/x-python",
   "name": "python",
   "nbconvert_exporter": "python",
   "pygments_lexer": "ipython3",
   "version": "3.7.12"
  },
  "papermill": {
   "default_parameters": {},
   "duration": 13.001627,
   "end_time": "2022-04-14T14:23:43.953793",
   "environment_variables": {},
   "exception": null,
   "input_path": "__notebook__.ipynb",
   "output_path": "__notebook__.ipynb",
   "parameters": {},
   "start_time": "2022-04-14T14:23:30.952166",
   "version": "2.3.4"
  }
 },
 "nbformat": 4,
 "nbformat_minor": 5
}
